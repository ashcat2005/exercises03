{
 "cells": [
  {
   "cell_type": "markdown",
   "metadata": {
    "id": "0NQKBUbAejFV"
   },
   "source": [
    "# Computational Astrophysics\n",
    "## 03. Exercises"
   ]
  },
  {
   "cell_type": "markdown",
   "metadata": {
    "id": "QsBlwilWejFZ"
   },
   "source": [
    "**Name:** \n",
    "\n",
    "---"
   ]
  },
  {
   "cell_type": "markdown",
   "metadata": {
    "id": "0ODMWI1fejFa"
   },
   "source": [
    "## 1. Lorentz Gamma Function\n",
    "**`Carroll and Ostlie (2017). Section 4.2`**\n",
    "\n",
    "Write a program that reads the file written by the program that calculates the Lorentz gamma function in Exercises 01 and plots the corresponding curve for values of $\\beta$ between $0$ and $1$."
   ]
  },
  {
   "cell_type": "markdown",
   "metadata": {
    "id": "fC0ILvjlejFa"
   },
   "source": [
    "---\n",
    "\n",
    "## 2. Elliptic Orbits\n",
    "**`Carroll and Ostlie (2017). Section 3.1`**\n",
    "\n",
    "As is well known, planets in the Solar System move in ellipses described by the general equation\n",
    "\n",
    "\\begin{equation}\n",
    "r = \\frac{a(1-e^2)}{1+e \\cos (\\phi + \\omega)}\n",
    "\\end{equation}\n",
    "\n",
    "where $0 \\leq e <1$ is the eccentricity, $a>0$ is the semimajor axis and $\\omega$ is the argument of the pericenter. Write a Python program that receive as arguments the parameters $e$, $a$ and $\\omega$ and plots the ellipse described by the above equation."
   ]
  },
  {
   "cell_type": "markdown",
   "metadata": {
    "id": "FjubnJygejFa"
   },
   "source": [
    "---\n",
    "\n",
    "## 3. Gauss Function\n",
    "**`Carroll and Ostlie (2017). Section 4.2`**\n",
    "\n",
    "One of the most used functions in physics ans astronomy is the Gaussian function,\n",
    "\n",
    "\\begin{equation}\n",
    "f(x) = \\frac{1}{\\sqrt{2 \\pi} s} \\exp{\\left[ - \\frac{1}{2} \\left( \\frac{x-m}{s}\\right)^2 \\right]}\n",
    "\\end{equation}\n",
    "\n",
    "1. Write a function, with the arguments $m$ and $s>0$, that evaluates and plots the Gaussian function. The plot must be saved as .jpg and .pdf files."
   ]
  },
  {
   "cell_type": "markdown",
   "metadata": {
    "id": "A2AFeEkTejFa"
   },
   "source": [
    "---\n",
    "\n",
    "## 4. Planck Function\n",
    "**`Carroll and Ostlie (2017). Section 3.5`**\n",
    "\n",
    "1. In Exercises 01 you wrote a function to calculate Planck's function,\n",
    "\n",
    "\\begin{equation}\n",
    "B_\\lambda (T) = \\frac{2hc^2/\\lambda^5}{e^{hc/\\lambda k_BT} - 1}\n",
    "\\end{equation}\n",
    "\n",
    "where $c=3\\times 10^8 \\textrm{ m/s}^s$, $k_B = 1.3806503 \\times 10{-23} \\textrm{ J K}^{-1}$ and $h = 6.62606876 \\times 10^{-34} \\textrm{ J s}$. \n",
    "\n",
    "2. Write a Python program that uses the above function to plot $B_\\lambda (T)$ for a given value of temperature $T$ as function of $\\lambda$.\n",
    "\n",
    "3. Plot the Planck function for the temperatures $T=5000, 6000, 7000, 8000$ K and save it as a .pdf file."
   ]
  },
  {
   "cell_type": "markdown",
   "metadata": {
    "id": "CrmFChNxejFb"
   },
   "source": [
    "¡¡ Happy Coding !!"
   ]
  }
 ],
 "metadata": {
  "colab": {
   "collapsed_sections": [],
   "name": "Exercises03.ipynb",
   "provenance": []
  },
  "kernelspec": {
   "display_name": "Python 3 (ipykernel)",
   "language": "python",
   "name": "python3"
  },
  "language_info": {
   "codemirror_mode": {
    "name": "ipython",
    "version": 3
   },
   "file_extension": ".py",
   "mimetype": "text/x-python",
   "name": "python",
   "nbconvert_exporter": "python",
   "pygments_lexer": "ipython3",
   "version": "3.9.5"
  }
 },
 "nbformat": 4,
 "nbformat_minor": 1
}
